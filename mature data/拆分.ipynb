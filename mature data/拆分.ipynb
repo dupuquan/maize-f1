{
 "cells": [
  {
   "cell_type": "code",
   "execution_count": 1,
   "id": "bb1567a8-3498-4d6f-b56a-ade35284d980",
   "metadata": {},
   "outputs": [],
   "source": [
    "import os  \n",
    "import shutil  "
   ]
  },
  {
   "cell_type": "code",
   "execution_count": 2,
   "id": "4af56a65-c724-4479-9150-4ba2f585ee05",
   "metadata": {},
   "outputs": [
    {
     "name": "stdout",
     "output_type": "stream",
     "text": [
      "文件已成功分配到各个文件夹中\n"
     ]
    }
   ],
   "source": [
    "# 源文件夹路径  \n",
    "source_folder = 'cycle_450000'  \n",
    "  \n",
    "# 检查源文件夹是否存在  \n",
    "if not os.path.exists(source_folder):  \n",
    "    print(f\"源文件夹 {source_folder} 不存在\")  \n",
    "    exit()  \n",
    "  \n",
    "# 获取源文件夹中的文件列表  \n",
    "files = os.listdir(source_folder)  \n",
    "  \n",
    "# 计算每个文件夹应包含的文件数量  \n",
    "num_files_per_folder = len(files) // 45  \n",
    "  \n",
    "# 遍历文件，并将它们移动到相应的文件夹中  \n",
    "for i in range(1, 46):  # 从1到45  \n",
    "    # 创建目标文件夹（如果不存在）  \n",
    "    dest_folder = f'folder_{i}'  \n",
    "    if not os.path.exists(dest_folder):  \n",
    "        os.makedirs(dest_folder)  \n",
    "      \n",
    "    # 计算当前文件夹的文件范围  \n",
    "    start_index = (i - 1) * num_files_per_folder  \n",
    "    end_index = i * num_files_per_folder  \n",
    "      \n",
    "    # 将文件从源文件夹移动到目标文件夹  \n",
    "    for file in files[start_index:end_index]:  \n",
    "        shutil.move(os.path.join(source_folder, file), os.path.join(dest_folder, file))  \n",
    "  \n",
    "print(\"文件已成功分配到各个文件夹中\")"
   ]
  },
  {
   "cell_type": "code",
   "execution_count": null,
   "id": "1ea697a7-3989-4671-9a66-8280d2121579",
   "metadata": {},
   "outputs": [],
   "source": []
  }
 ],
 "metadata": {
  "kernelspec": {
   "display_name": "Python 3 (ipykernel)",
   "language": "python",
   "name": "python3"
  },
  "language_info": {
   "codemirror_mode": {
    "name": "ipython",
    "version": 3
   },
   "file_extension": ".py",
   "mimetype": "text/x-python",
   "name": "python",
   "nbconvert_exporter": "python",
   "pygments_lexer": "ipython3",
   "version": "3.11.7"
  }
 },
 "nbformat": 4,
 "nbformat_minor": 5
}
