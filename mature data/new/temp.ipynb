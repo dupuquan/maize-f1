{
 "cells": [
  {
   "cell_type": "code",
   "execution_count": 1,
   "id": "41110c83-d880-4dff-b50b-85c354140c3e",
   "metadata": {},
   "outputs": [],
   "source": [
    "import os\n",
    "import pandas as pd"
   ]
  },
  {
   "cell_type": "code",
   "execution_count": null,
   "id": "07eb4ddf-568d-4e77-babe-5e80dd87db36",
   "metadata": {},
   "outputs": [],
   "source": [
    "chr_signal_change=['9_12641123','9_12633072','9_12631049','9_23989836','9_12612853','9_12617994','9_12631091','9_12676638','9_12670767']#该位点是染色体的分界线"
   ]
  },
  {
   "cell_type": "code",
   "execution_count": 3,
   "id": "2db32363-65f6-463a-b521-8c180d5945fe",
   "metadata": {},
   "outputs": [],
   "source": [
    "# 定义函数来交换EMF两列的数据\n",
    "def swap_emf_columns(row, col_names):\n",
    "    temp = row[col_names[0]]\n",
    "    row[col_names[0]] = row[col_names[1]]\n",
    "    row[col_names[1]] = temp\n",
    "    return row"
   ]
  },
  {
   "cell_type": "code",
   "execution_count": 10,
   "id": "a7f77795-d792-4556-98a8-01b4ea6e161f",
   "metadata": {},
   "outputs": [],
   "source": [
    "def read_txt(file_path):\n",
    "    with open(file_path,'r') as file:\n",
    "        content=file.read()\n",
    "    return content"
   ]
  },
  {
   "cell_type": "code",
   "execution_count": 4,
   "id": "8308004c-1782-444b-9d3d-43aee9267337",
   "metadata": {},
   "outputs": [],
   "source": [
    "# 读取原始dataframe\n",
    "original_df = pd.read_excel('output/output_EMF0500586084_EMF0700126067.xlsx')  # 替换为你的dataframe文件路径"
   ]
  },
  {
   "cell_type": "code",
   "execution_count": 21,
   "id": "4d210293-23b1-47d3-b72b-4d3b28379484",
   "metadata": {},
   "outputs": [
    {
     "ename": "AttributeError",
     "evalue": "'DataFrame' object has no attribute 'itterrows'",
     "output_type": "error",
     "traceback": [
      "\u001b[1;31m---------------------------------------------------------------------------\u001b[0m",
      "\u001b[1;31mAttributeError\u001b[0m                            Traceback (most recent call last)",
      "Cell \u001b[1;32mIn[21], line 7\u001b[0m\n\u001b[0;32m      5\u001b[0m \u001b[38;5;28mlist\u001b[39m\u001b[38;5;241m=\u001b[39mread_txt(file_path)\n\u001b[0;32m      6\u001b[0m new_df \u001b[38;5;241m=\u001b[39m original_df\u001b[38;5;241m.\u001b[39mcopy()\n\u001b[1;32m----> 7\u001b[0m \u001b[38;5;28;01mfor\u001b[39;00m index,row \u001b[38;5;129;01min\u001b[39;00m new_df\u001b[38;5;241m.\u001b[39mitterrows():\n\u001b[0;32m      8\u001b[0m     \u001b[38;5;28;01mif\u001b[39;00m row[\u001b[38;5;124m'\u001b[39m\u001b[38;5;124mid\u001b[39m\u001b[38;5;124m'\u001b[39m] \u001b[38;5;129;01min\u001b[39;00m \u001b[38;5;28mlist\u001b[39m:\n\u001b[0;32m      9\u001b[0m         new_df\u001b[38;5;241m.\u001b[39mloc[\u001b[38;5;28mlist\u001b[39m:,[\u001b[38;5;124m'\u001b[39m\u001b[38;5;124mEMF0500586084\u001b[39m\u001b[38;5;124m'\u001b[39m,\u001b[38;5;124m'\u001b[39m\u001b[38;5;124mEMF0700126067\u001b[39m\u001b[38;5;124m'\u001b[39m]]\u001b[38;5;241m=\u001b[39mnew_df\u001b[38;5;241m.\u001b[39mloc[\u001b[38;5;28mlist\u001b[39m:,[\u001b[38;5;124m'\u001b[39m\u001b[38;5;124mEMF0700126067\u001b[39m\u001b[38;5;124m'\u001b[39m,\u001b[38;5;124m'\u001b[39m\u001b[38;5;124mEMF0500586084\u001b[39m\u001b[38;5;124m'\u001b[39m]]\n",
      "File \u001b[1;32mD:\\ananconda\\Lib\\site-packages\\pandas\\core\\generic.py:6204\u001b[0m, in \u001b[0;36mNDFrame.__getattr__\u001b[1;34m(self, name)\u001b[0m\n\u001b[0;32m   6197\u001b[0m \u001b[38;5;28;01mif\u001b[39;00m (\n\u001b[0;32m   6198\u001b[0m     name \u001b[38;5;129;01mnot\u001b[39;00m \u001b[38;5;129;01min\u001b[39;00m \u001b[38;5;28mself\u001b[39m\u001b[38;5;241m.\u001b[39m_internal_names_set\n\u001b[0;32m   6199\u001b[0m     \u001b[38;5;129;01mand\u001b[39;00m name \u001b[38;5;129;01mnot\u001b[39;00m \u001b[38;5;129;01min\u001b[39;00m \u001b[38;5;28mself\u001b[39m\u001b[38;5;241m.\u001b[39m_metadata\n\u001b[0;32m   6200\u001b[0m     \u001b[38;5;129;01mand\u001b[39;00m name \u001b[38;5;129;01mnot\u001b[39;00m \u001b[38;5;129;01min\u001b[39;00m \u001b[38;5;28mself\u001b[39m\u001b[38;5;241m.\u001b[39m_accessors\n\u001b[0;32m   6201\u001b[0m     \u001b[38;5;129;01mand\u001b[39;00m \u001b[38;5;28mself\u001b[39m\u001b[38;5;241m.\u001b[39m_info_axis\u001b[38;5;241m.\u001b[39m_can_hold_identifiers_and_holds_name(name)\n\u001b[0;32m   6202\u001b[0m ):\n\u001b[0;32m   6203\u001b[0m     \u001b[38;5;28;01mreturn\u001b[39;00m \u001b[38;5;28mself\u001b[39m[name]\n\u001b[1;32m-> 6204\u001b[0m \u001b[38;5;28;01mreturn\u001b[39;00m \u001b[38;5;28mobject\u001b[39m\u001b[38;5;241m.\u001b[39m\u001b[38;5;21m__getattribute__\u001b[39m(\u001b[38;5;28mself\u001b[39m, name)\n",
      "\u001b[1;31mAttributeError\u001b[0m: 'DataFrame' object has no attribute 'itterrows'"
     ]
    }
   ],
   "source": [
    "folder_path='folder_1'\n",
    "for filename in os.listdir(folder_path):\n",
    "    file_path=os.path.join(folder_path,filename)\n",
    "    \n",
    "    list=read_txt(file_path)\n",
    "    new_df = original_df.copy()\n",
    "    for col in new_df.columns:\n",
    "        print(new_df[])\n",
    "        #if col['id'] in list:\n",
    "            #new_df.loc[list:,['EMF0500586084','EMF0700126067']]=new_df.loc[list:,['EMF0700126067','EMF0500586084']]\n",
    "    #print(new_df)"
   ]
  },
  {
   "cell_type": "code",
   "execution_count": 18,
   "id": "a02a8a71-2787-405a-9139-74371213ae57",
   "metadata": {},
   "outputs": [
    {
     "name": "stdout",
     "output_type": "stream",
     "text": [
      "12345678\n",
      "923\n"
     ]
    }
   ],
   "source": [
    "print(read_txt('temp.txt'))"
   ]
  },
  {
   "cell_type": "code",
   "execution_count": null,
   "id": "8bc51518-36d8-4de6-ac82-bbc8c685e038",
   "metadata": {},
   "outputs": [],
   "source": []
  }
 ],
 "metadata": {
  "kernelspec": {
   "display_name": "Python 3 (ipykernel)",
   "language": "python",
   "name": "python3"
  },
  "language_info": {
   "codemirror_mode": {
    "name": "ipython",
    "version": 3
   },
   "file_extension": ".py",
   "mimetype": "text/x-python",
   "name": "python",
   "nbconvert_exporter": "python",
   "pygments_lexer": "ipython3",
   "version": "3.11.7"
  }
 },
 "nbformat": 4,
 "nbformat_minor": 5
}
