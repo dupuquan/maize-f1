{
 "cells": [
  {
   "cell_type": "code",
   "execution_count": 118,
   "id": "bd401af6-301c-4d7e-866b-40733030edb3",
   "metadata": {},
   "outputs": [],
   "source": [
    "import pandas as pd\n",
    "import numpy as py\n",
    "import random\n",
    "import os"
   ]
  },
  {
   "cell_type": "code",
   "execution_count": 2,
   "id": "704bd8bf-dbb6-49a5-a884-c0768e0df807",
   "metadata": {},
   "outputs": [],
   "source": [
    "Map=pd.read_excel('Map_clean .xlsx',keep_default_na=False)"
   ]
  },
  {
   "cell_type": "code",
   "execution_count": 3,
   "id": "05ace076-6208-4946-9176-0c6f42ff2433",
   "metadata": {},
   "outputs": [],
   "source": [
    "F1_45=pd.read_excel('output45_df.xlsx',keep_default_na=False)"
   ]
  },
  {
   "cell_type": "code",
   "execution_count": 4,
   "id": "c2365914-b8c9-4d25-a977-4c8c49a8432d",
   "metadata": {},
   "outputs": [],
   "source": [
    "parents=pd.read_excel('parents_clean (9).xlsx',keep_default_na=False)"
   ]
  },
  {
   "cell_type": "code",
   "execution_count": 105,
   "id": "e49d3f1d-c025-4763-aeeb-b21c81d6f699",
   "metadata": {},
   "outputs": [],
   "source": [
    "chr_signal_change=['9_12641123','9_12633072','9_12631049','9_23989836','9_12612853','9_12617994','9_12631091','9_12676638','9_12670767']"
   ]
  },
  {
   "cell_type": "raw",
   "id": "e4d78ab8-ceea-44a2-a9bf-ec87a7ce4105",
   "metadata": {},
   "source": [
    "import random\n",
    "\n",
    "def random_boolean(probability):#将Map表的上下相减参数传入函数，并返回是否进行翻转\n",
    "    \"\"\"\n",
    "    Returns a boolean value based on the given probability.\n",
    "    :param probability: A float representing the probability of returning True.\n",
    "    :return: True with the given probability, otherwise False.\n",
    "    \"\"\"\n",
    "    return random.random() < probability\n",
    "\n",
    "# Example usage:\n",
    "probability_of_true = 0.7  # 70% chance to get True\n",
    "result = random_boolean(probability_of_true)\n",
    "print(result)\n"
   ]
  },
  {
   "cell_type": "raw",
   "id": "b8fe65f6-337f-4f68-9fe5-8fcb959cc332",
   "metadata": {},
   "source": [
    "另外，Python 3.10中引入了`match`语句，类似于其他编程语言中的`switch`语句。以下是一个使用`match`语句的示例：\n",
    "\n",
    "```python\n",
    "def case_1():\n",
    "    \n",
    "    return \"Case 1\"\n",
    "\n",
    "def case_2():\n",
    "    return \"Case 2\"\n",
    "\n",
    "def case_3():\n",
    "    return \"Case 3\"\n",
    "\n",
    "def switch_case(value):\n",
    "    match value:\n",
    "        case 1:\n",
    "            return case_1()\n",
    "        case 2:\n",
    "            return case_2()\n",
    "        case 3:\n",
    "            return case_3()\n",
    "        default:\n",
    "            return \"Invalid case\"\n",
    "\n",
    "# 使用示例\n",
    "print(switch_case(1))  # 输出: Case 1\n",
    "print(switch_case(2))  # 输出: Case 2\n",
    "print(switch_case(3))  # 输出: Case 3\n",
    "print(switch_case(4))  # 输出: Invalid case\n",
    "```\n",
    "在这个示例中，我们定义了一个`switch_case`函数，并使用`match`语句来实现类似`switch`的功能。当`match`语句匹配到一个值时，它会执行对应的代码块。如果没有匹配到任何值，则会执行默认的代码块。\n",
    "\n",
    "需要注意的是，`match`语句只适用于Python 3.10及以上版本。如果你的Python版本低于3.10，那么你需要使用前面的字典和函数的方法来实现类似的功能。"
   ]
  },
  {
   "cell_type": "raw",
   "id": "1569359b-26a6-4177-b6ef-f496eef4fcf8",
   "metadata": {},
   "source": [
    "def function1(input):\n",
    "    input=pd.read_excel()\n",
    "    id=input[['id']].copy\n",
    "    MP=input[['MP']].copy\n",
    "    chr=input[['chr']].copy\n",
    "    input['C']=input.apply(lamba row:[row['id'],row['MP'],row['chr']],axis=1)\n",
    "    result_df=pd.DataFeame(input['C'].tolist(),columns=['id','MP','chr'])\n",
    "   \n",
    "        "
   ]
  },
  {
   "cell_type": "raw",
   "id": "9c2af623-f8a2-45f9-8648-88e7498a4a9c",
   "metadata": {
    "editable": true,
    "slideshow": {
     "slide_type": ""
    },
    "tags": []
   },
   "source": [
    "result_dict={}\n",
    "for i in range(len(Map)):\n",
    "        if Map.iloc[['chr']]=='1':\n",
    "            if Map.iloc[i+1,'MP']-Map.iloc[i,'MP']>=0:\n",
    "                key=(Map.loc[i-1,'id'],Map.loc[i,'id'])\n",
    "                if key not in result_dict:\n",
    "                    result_dict[key]=[]\n",
    "                    result_dict[Key].append(Map.iloc[i+1,'MP']-Map.iloc[i,'MP'])\n",
    "        elif Map.iloc[['chr']]=='2':\n",
    "            if Map.iloc[i+1,'MP']-Map.iloc[i,'MP']>=0:\n",
    "                key=(Map.loc[i-1,'id'],Map.loc[i,'id'])\n",
    "                if key not in result_dict:\n",
    "                    result_dict[key]=[]\n",
    "                    result_dict[Key].append(Map.iloc[i+1,'MP']-Map.iloc[i,'MP'])\n",
    "        elif Map.iloc[['chr']]=='3':\n",
    "            if Map.iloc[i+1,'MP']-Map.iloc[i,'MP']>=0:\n",
    "                key=(Map.loc[i-1,'id'],Map.loc[i,'id'])\n",
    "                if key not in result_dict:\n",
    "                    result_dict[key]=[]\n",
    "                    result_dict[Key].append(Map.iloc[i+1,'MP']-Map.iloc[i,'MP'])\n",
    "        elif Map.iloc[['chr']]=='4':\n",
    "            if Map.iloc[i+1,'MP']-Map.iloc[i,'MP']>=0:\n",
    "                key=(Map.loc[i-1,'id'],Map.loc[i,'id'])\n",
    "                if key not in result_dict:\n",
    "                    result_dict[key]=[]\n",
    "                    result_dict[Key].append(Map.iloc[i+1,'MP']-Map.iloc[i,'MP'])\n",
    "        elif Map.iloc[['chr']]=='5':\n",
    "            if Map.iloc[i+1,'MP']-Map.iloc[i,'MP']>=0:\n",
    "                key=(Map.loc[i-1,'id'],Map.loc[i,'id'])\n",
    "                if key not in result_dict:\n",
    "                    result_dict[key]=[]\n",
    "                    result_dict[Key].append(Map.iloc[i+1,'MP']-Map.iloc[i,'MP'])\n",
    "        elif Map.iloc[['chr']]=='6':\n",
    "            if Map.iloc[i+1,'MP']-Map.iloc[i,'MP']>=0:\n",
    "                key=(Map.loc[i-1,'id'],Map.loc[i,'id'])\n",
    "                if key not in result_dict:\n",
    "                    result_dict[key]=[]\n",
    "                    result_dict[Key].append(Map.iloc[i+1,'MP']-Map.iloc[i,'MP'])\n",
    "        elif Map.iloc[['chr']]=='7':\n",
    "            if Map.iloc[i+1,'MP']-Map.iloc[i,'MP']>=0:\n",
    "                key=(Map.loc[i-1,'id'],Map.loc[i,'id'])\n",
    "                if key not in result_dict:\n",
    "                    result_dict[key]=[]\n",
    "                    result_dict[Key].append(Map.iloc[i+1,'MP']-Map.iloc[i,'MP'])\n",
    "        elif Map.iloc[['chr']]=='8':\n",
    "            if Map.iloc[i+1,'MP']-Map.iloc[i,'MP']>=0:\n",
    "                key=(Map.loc[i-1,'id'],Map.loc[i,'id'])\n",
    "                if key not in result_dict:\n",
    "                    result_dict[key]=[]\n",
    "                    result_dict[Key].append(Map.iloc[i+1,'MP']-Map.iloc[i,'MP'])\n",
    "        elif Map.iloc[['chr']]=='9':\n",
    "            if Map.iloc[i+1,'MP']-Map.iloc[i,'MP']>=0:\n",
    "                key=(Map.loc[i-1,'id'],Map.loc[i,'id'])\n",
    "                if key not in result_dict:\n",
    "                    result_dict[key]=[]\n",
    "                    result_dict[Key].append(Map.iloc[i+1,'MP']-Map.iloc[i,'MP'])\n",
    "        elif Map.iloc[['chr']]=='10':\n",
    "            if Map.iloc[i+1,'MP']-Map.iloc[i,'MP']>=0:\n",
    "                key=(Map.loc[i-1,'id'],Map.loc[i,'id'])\n",
    "                if key not in result_dict:\n",
    "                    result_dict[key]=[]\n",
    "                    result_dict[Key].append(Map.iloc[i+1,'MP']-Map.iloc[i,'MP'])\n",
    "        #根据chr值进行选择分支，求出10条list存放突变的真实位置和相对遗传距离的差值"
   ]
  },
  {
   "cell_type": "code",
   "execution_count": 5,
   "id": "8cdf5132-e2df-4ba5-91b8-d2b030238faa",
   "metadata": {},
   "outputs": [
    {
     "name": "stdout",
     "output_type": "stream",
     "text": [
      "   DNApolymorphismid Map Set(外部v5)  Chr    Start      End  LG   MP Unnamed: 7  \\\n",
      "0         9_12633797   corn_B73_v5    1  1834246  1834246   1  0.3              \n",
      "1         9_12652131   corn_B73_v5    1  2023026  2023026   1  0.3              \n",
      "2         9_12661382   corn_B73_v5    1  2096028  2096028   1  0.8              \n",
      "3         9_12661380   corn_B73_v5    1  2096513  2096513   1  2.9              \n",
      "4         9_12652124   corn_B73_v5    1  2097185  2097185   1  2.9              \n",
      "5         9_12652141   corn_B73_v5    1  2145351  2145351   1  2.9              \n",
      "6         9_12652215   corn_B73_v5    1  2149063  2149063   1  2.9              \n",
      "7         9_12652115   corn_B73_v5    1  2377095  2377095   1  2.9              \n",
      "8         9_12652197   corn_B73_v5    1  2515255  2515255   1  2.9              \n",
      "9         9_12652146   corn_B73_v5    1  2766883  2766883   1  2.9              \n",
      "10        9_12652253   corn_B73_v5    1  2772928  2772928   1  2.9              \n",
      "11        9_12652101   corn_B73_v5    1  2801133  2801133   1  2.9              \n",
      "12        9_12652224   corn_B73_v5    1  2801942  2801942   1  2.9              \n",
      "13        9_12632959   corn_B73_v5    1  2811769  2811769   1  4.2              \n",
      "14        9_12632975   corn_B73_v5    1  2812486  2812486   1  4.2              \n",
      "15        9_12632977   corn_B73_v5    1  2812806  2812806   1  4.2              \n",
      "16        9_12633025   corn_B73_v5    1  2817273  2817273   1  4.3              \n",
      "17        9_12652210   corn_B73_v5    1  2869041  2869041   1  4.3              \n",
      "18        9_23609097   corn_B73_v5    1  2966688  2966688   1  4.3              \n",
      "19        9_12649246   corn_B73_v5    1  3027110  3027110   1  4.3              \n",
      "\n",
      "   Unnamed: 8 Unnamed: 9 Unnamed: 10 Unnamed: 11  \n",
      "0                                                 \n",
      "1                                                 \n",
      "2                                                 \n",
      "3                                                 \n",
      "4                                                 \n",
      "5                                                 \n",
      "6                                                 \n",
      "7                                                 \n",
      "8                                                 \n",
      "9                                                 \n",
      "10                                                \n",
      "11                                                \n",
      "12                                                \n",
      "13                                                \n",
      "14                                                \n",
      "15                                                \n",
      "16                                                \n",
      "17                                                \n",
      "18                                                \n",
      "19                                                \n"
     ]
    }
   ],
   "source": [
    "# 或者使用更简洁的方法，使用布尔索引直接筛选\n",
    "#new_df = Map[Map['MP'] != 0]\n",
    "\n",
    "# 创建一个空的dataframe，用于存放筛选后的行\n",
    "new_df = []#pd.DataFrame(columns=Map.columns)\n",
    "\n",
    "# 遍历原始dataframe的每一行\n",
    "for index, row in Map.iterrows():\n",
    "    # 检查\"MP\"列的值是否非零\n",
    "    if row['MP'] != 0:\n",
    "        # 如果非零，将这一行添加到新的dataframe中\n",
    "        new_df.append(row.to_dict()) #= new_df.append(row.to_frame().T,ignore_index=True)\n",
    "\n",
    "new_df=pd.DataFrame(new_df)\n",
    "# 打印新的dataframe\n",
    "print(new_df.head(20))\n"
   ]
  },
  {
   "cell_type": "code",
   "execution_count": 6,
   "id": "a35cad27-3094-4855-bac2-816512292a22",
   "metadata": {},
   "outputs": [],
   "source": [
    "# 初始化一个空字典来存储结果\n",
    "result_dict_1 = {}\n",
    "result_dict_2 = {}\n",
    "result_dict_3 = {}\n",
    "result_dict_4 = {}\n",
    "result_dict_5 = {}\n",
    "result_dict_6 = {}\n",
    "result_dict_7 = {}\n",
    "result_dict_8 = {}\n",
    "result_dict_9 = {}\n",
    "result_dict_10 = {}"
   ]
  },
  {
   "cell_type": "code",
   "execution_count": 11,
   "id": "95ee678e-43b9-45eb-91f8-2f275756a664",
   "metadata": {},
   "outputs": [
    {
     "data": {
      "text/plain": [
       "\"#将结果输出\\nresult_df=pd.DataFrame(result_dict)\\nresult_dict.to_excel('result_dict.xlsx',index=False)\""
      ]
     },
     "execution_count": 11,
     "metadata": {},
     "output_type": "execute_result"
    }
   ],
   "source": [
    "\n",
    "# 遍历DataFrame的索引，从第二个元素开始（因为我们需要上一个值）\n",
    "for i in range(1, len(new_df)):\n",
    "    # 计算mp列当前值和上一个值的差值\n",
    "    diff = round(new_df.loc[i, 'MP'] - new_df.loc[i - 1, 'MP'],3)\n",
    "    # 检查差值是否大于0\n",
    "    if diff > 0:\n",
    "        # 如果是，将ID列的值作为键，差值作为值，添加到字典中\n",
    "        #result_dict[new_df.loc[i, 'DNApolymorphismid']] = diff\n",
    "        if new_df.loc[i,'Chr']==1:\n",
    "            result_dict_1[new_df.loc[i, 'DNApolymorphismid']] = diff\n",
    "        elif new_df.loc[i,'Chr']==2:\n",
    "            result_dict_2[new_df.loc[i, 'DNApolymorphismid']] = diff\n",
    "        elif new_df.loc[i,'Chr']==3:\n",
    "            result_dict_3[new_df.loc[i, 'DNApolymorphismid']] = diff\n",
    "        elif new_df.loc[i,'Chr']==4:\n",
    "            result_dict_4[new_df.loc[i, 'DNApolymorphismid']] = diff\n",
    "        elif new_df.loc[i,'Chr']==5:\n",
    "            result_dict_5[new_df.loc[i, 'DNApolymorphismid']] = diff\n",
    "        elif new_df.loc[i,'Chr']==6:\n",
    "            result_dict_6[new_df.loc[i, 'DNApolymorphismid']] = diff\n",
    "        elif new_df.loc[i,'Chr']==7:\n",
    "            result_dict_7[new_df.loc[i, 'DNApolymorphismid']] = diff\n",
    "        elif new_df.loc[i,'Chr']==8:\n",
    "            result_dict_8[new_df.loc[i, 'DNApolymorphismid']] = diff\n",
    "        elif new_df.loc[i,'Chr']==9:\n",
    "            result_dict_9[new_df.loc[i, 'DNApolymorphismid']] = diff\n",
    "        elif new_df.loc[i,'Chr']==10:\n",
    "            result_dict_10[new_df.loc[i, 'DNApolymorphismid']] = diff\n",
    "# 打印结果字典\n",
    "\n",
    "\n",
    "'''#将结果输出\n",
    "result_df=pd.DataFrame(result_dict)\n",
    "result_dict.to_excel('result_dict.xlsx',index=False)'''"
   ]
  },
  {
   "cell_type": "code",
   "execution_count": 29,
   "id": "e87f5aa1-29b1-40ce-9d3b-a7d99ef102b4",
   "metadata": {},
   "outputs": [
    {
     "name": "stdout",
     "output_type": "stream",
     "text": [
      "{'9_12661382': 0.5, '9_12661380': 2.1, '9_12632959': 1.3, '9_12633025': 0.1, '9_12668499': 0.1, '9_12634154': 4.0, '9_12652297': 3.4, '9_12667850': 0.4, '9_12652544': 1.3, '9_12652375': 0.7, '9_12652437': 1.0, '9_12632588': 0.5, '9_12632313': 0.3, '9_12662117': 0.4, '9_12662121': 0.7, '9_12662120': 0.2, '9_12649384': 10.6, '9_12669496': 0.3, '9_12666670': 1.9, '9_12652400': 2.3, '9_12664787': 0.8, '9_12664785': 2.0, '9_12652606': 0.7, '9_12669068': 0.5, '9_12671896': 0.2, '9_12652808': 1.3, '9_12664161': 0.2, '9_12652764': 3.1, '9_12653033': 0.9, '9_12653088': 0.4, '9_12649758': 2.0, '9_12668045': 0.2, '9_12649718': 0.6, '9_12652894': 0.1, '9_12664290': 1.3, '9_12652866': 0.1, '9_12670034': 0.2, '9_12649644': 0.2, '9_12662737': 0.6, '9_12663909': 1.5, '9_12632749': 1.2, '9_12649826': 0.1, '9_12662068': 1.1, '9_12662109': 0.5, '9_12653304': 0.5, '9_12665006': 1.0, '9_12668014': 0.8, '9_12653296': 1.2, '9_12663415': 0.9, '9_12653332': 0.2, '9_12653440': 0.4, '9_12653353': 0.6, '9_12653441': 0.2, '9_23542938': 1.3, '9_12661896': 1.4, '9_12653446': 0.6, '9_12653535': 2.3, '9_12649753': 0.4, '9_12633879': 0.9, '9_12653628': 0.2, '9_12653726': 1.0, '9_12653743': 2.4, '9_12653768': 0.6, '9_12653643': 0.8, '9_12653829': 0.9, '9_12653715': 0.9, '9_12668876': 0.5, '9_12653786': 0.3, '9_12654354': 1.4, '9_12654511': 1.6, '9_12632510': 1.5, '9_12640383': 0.5, '9_12612677': 0.2, '9_12612675': 0.5, '9_12665285': 1.3, '9_12643163': 0.4, '9_12643243': 0.1, '9_12666279': 3.4, '9_12643326': 0.6, '9_12654717': 0.6, '9_12654747': 0.6, '9_12661958': 0.1, '9_12663562': 0.3, '9_12643340': 0.2, '9_12661508': 0.5, '9_12661506': 0.8, '9_12643320': 0.2, '9_12643145': 0.5, '9_12643132': 2.6, '9_12654996': 0.2, '9_12643191': 0.4, '9_12643265': 0.1, '9_12643089': 0.3, '9_12643086': 0.1, '9_12643268': 0.5, '9_12643108': 0.4, '9_12643120': 0.2, '9_12634156': 0.9, '9_12654835': 3.3, '9_12655101': 1.3, '9_12655185': 0.4, '9_67926416': 0.7, '9_12633890': 0.2, '9_12655290': 0.2, '9_67938349': 0.3, '9_12655110': 0.2, '9_12655149': 3.4, '9_12655272': 0.3, '9_12655389': 0.2, '9_12655405': 0.4, '9_12655335': 0.4, '9_12655565': 1.8, '9_12655328': 0.9, '9_12661212': 0.8, '9_12655679': 1.0, '9_12655931': 0.4, '9_12655903': 1.3, '9_12656053': 0.4, '9_12656313': 0.1, '9_12656079': 1.4, '9_12656703': 1.6, '9_12656747': 0.9, '9_12667933': 0.7, '9_12643220': 0.2, '9_12657585': 0.5, '9_12657760': 3.3, '9_12657755': 1.1, '9_12660425': 0.5, '9_12666815': 1.8, '9_12656908': 0.2, '9_12632238': 3.4, '9_12667747': 0.6, '9_12666660': 5.5, '9_12666659': 1.0, '9_12660119': 1.4, '9_12667750': 0.2, '9_12651339': 0.1, '9_12668168': 0.3, '9_12667442': 1.2, '9_12643102': 0.2, '9_12633711': 0.1, '9_12672293': 0.2, '9_12672249': 5.3, '9_12672341': 0.3, '9_12667942': 0.3, '9_12666299': 0.1, '9_12663805': 0.1, '9_12666753': 0.9, '9_12634210': 0.7, '9_12634128': 1.2, '9_12651340': 0.5, '9_12664040': 2.7, '9_12633434': 0.7, '9_12611873': 4.6, '9_12669933': 0.2, '9_12669408': 0.5, '9_12633340': 1.9, '9_12666930': 2.2, '9_12662599': 1.0, '9_12664810': 0.1, '9_12665836': 0.2, '9_12664865': 0.3, '9_12634165': 0.6, '9_12680639': 0.7, '9_12660168': 0.1, '9_12680453': 1.8, '9_12612405': 0.1, '9_12680628': 0.3, '9_12680532': 0.5, '9_12680568': 0.4, '9_12668289': 0.7, '9_12668237': 0.2, '9_12668203': 0.4, '9_12680622': 0.1, '9_12663055': 1.2, '9_12607776': 0.1, '9_12607632': 0.1, '9_12663106': 0.7, '9_12668007': 0.7, '9_12667929': 0.7, '9_12633789': 0.2, '9_12633791': 0.8, '9_12665444': 0.6, '9_12662978': 0.7, '9_12668056': 1.8, '9_12610322': 1.1, '9_12610414': 0.1, '9_12610296': 0.1, '9_12610458': 0.2, '9_12610421': 0.1, '9_12610359': 0.2, '9_12610416': 0.5, '9_12610499': 0.3, '9_12610431': 1.4, '9_12633490': 0.9, '9_12633491': 0.1, '9_12633492': 0.2, '9_12633757': 1.6, '9_12633754': 0.4, '9_12661050': 1.4, '9_12667877': 0.1, '9_12633570': 0.4, '9_12661489': 1.2, '9_12613806': 1.0, '9_12613924': 0.4, '9_12668041': 0.2, '9_12619334': 1.3, '9_12619425': 0.9, '9_12632950': 0.3, '9_12651642': 0.5, '9_12619346': 1.3, '9_23542877': 0.5, '9_12619370': 1.5, '9_12619391': 0.9, '9_23542931': 0.4, '9_12634230': 0.3, '9_12634231': 0.4, '9_12622244': 0.6, '9_12622276': 0.1, '9_12622260': 0.3, '9_12622157': 2.3, '9_12662714': 0.8, '9_12664249': 1.4, '9_12622128': 0.2, '9_12622261': 0.4, '9_12668314': 2.2, '9_12634075': 0.1, '9_12624963': 0.5, '9_12624853': 0.8, '9_23542745': 0.3, '9_12663133': 1.3, '9_12624787': 0.6, '9_12624898': 3.3, '9_12624815': 0.8, '9_12624871': 0.2, '9_12676575': 0.1, '9_12624969': 0.5, '9_12624805': 0.5, '9_12627626': 0.8, '9_12627653': 0.9, '9_12627678': 0.2, '9_12669874': 0.8, '9_12661664': 3.6, '9_12661530': 4.2, '9_12630423': 1.3, '9_12666779': 1.5, '9_12612043': 0.7, '9_12667425': 2.2, '9_12630345': 0.5, '9_12634447': 1.6, '9_12645980': 0.9, '9_12646078': 0.4, '9_12662660': 0.7, '9_12612158': 0.5, '9_12612157': 1.9, '9_12612166': 0.1, '9_12667078': 2.9, '9_12634437': 3.4, '9_12634354': 0.5, '9_12634449': 0.1, '9_12665252': 0.2, '9_12634422': 0.2, '9_12670503': 2.1, '9_12632118': 0.3, '9_12663229': 0.5, '9_12667875': 0.4, '9_12668034': 1.3, '9_12632213': 0.9, '9_12666983': 0.9, '9_12667426': 0.6, '9_12667093': 0.2, '9_12667344': 1.3, '9_12667342': 0.1, '9_12670784': 0.5, '9_12670793': 0.5, '9_12670799': 0.3, '9_12670787': 0.3, '9_12670790': 0.1, '9_12637504': 0.4, '9_12637541': 0.2, '9_12640337': 0.8, '9_12661042': 0.4, '9_12633498': 0.4, '9_12633389': 0.4}\n"
     ]
    }
   ],
   "source": [
    "print(result_dict_1)"
   ]
  },
  {
   "cell_type": "code",
   "execution_count": 39,
   "id": "03c01558-5b36-4208-903d-95f293c9178a",
   "metadata": {},
   "outputs": [],
   "source": [
    "def normalize_dict_values(dictionary):\n",
    "    # 求和所有值\n",
    "    total_sum = sum(dictionary.values())\n",
    "    \n",
    "    # 遍历字典，对每个值进行处理\n",
    "    for key in dictionary:\n",
    "        # 将每个值除以求和的数再乘以100\n",
    "        normalized_value = round( (dictionary[key] / total_sum) * 100 , 3)\n",
    "        # 将处理完的值返回到其初始的位置\n",
    "        dictionary[key] = normalized_value\n",
    "    \n",
    "    return dictionary\n",
    "    #return total_sum\n"
   ]
  },
  {
   "cell_type": "code",
   "execution_count": 41,
   "id": "5f4f769d-df1f-47f2-ae0f-07fd9c15bece",
   "metadata": {},
   "outputs": [
    {
     "name": "stdout",
     "output_type": "stream",
     "text": [
      "{'9_12633763': 7.175, '9_12633765': 0.569, '9_12667837': 13.554, '9_12674267': 8.314, '9_12671521': 1.595, '9_12663489': 6.492, '9_12662765': 4.897, '9_12662384': 4.214, '9_12675848': 1.367, '9_12675709': 0.569, '9_12675743': 8.884, '9_12666235': 5.467, '9_12662699': 14.465, '9_12676185': 7.289, '9_12676150': 0.683, '9_12633992': 4.67, '9_12668159': 9.795}\n"
     ]
    }
   ],
   "source": [
    "dict1=normalize_dict_values(result_dict_1)\n",
    "dict2=normalize_dict_values(result_dict_2)\n",
    "dict3=normalize_dict_values(result_dict_3)\n",
    "dict4=normalize_dict_values(result_dict_4)\n",
    "dict5=normalize_dict_values(result_dict_5)\n",
    "dict6=normalize_dict_values(result_dict_6)\n",
    "dict7=normalize_dict_values(result_dict_7)\n",
    "dict8=normalize_dict_values(result_dict_8)\n",
    "dict9=normalize_dict_values(result_dict_9)\n",
    "dict10=normalize_dict_values(result_dict_10)\n",
    "print(dict10)"
   ]
  },
  {
   "cell_type": "code",
   "execution_count": 42,
   "id": "8ec6f297-6dd9-435d-8217-d4fed6b60baa",
   "metadata": {},
   "outputs": [],
   "source": [
    "def random_boolean(probability):\n",
    "    \"\"\"\n",
    "    Returns a boolean value based on the given probability.\n",
    "    :param probability: A float representing the probability of returning True.\n",
    "    :return: True with the given probability, otherwise False.\n",
    "    \"\"\"\n",
    "    return random.random() < probability"
   ]
  },
  {
   "cell_type": "raw",
   "id": "511d583b-5674-4a09-96b7-2dd518605dcb",
   "metadata": {},
   "source": [
    "def can_recombination(input_dict):\n",
    "    output_dict={}\n",
    "    true_count=0\n",
    "    for key in input_dict:\n",
    "        i=input_dict[key]\n",
    "        value=random_boolean(i)\n",
    "        if value:\n",
    "            true_count+=1\n",
    "            if true_count ==2:\n",
    "                for key in output_dict:\n",
    "                    if output_dict[key]is not False:\n",
    "                        continue\n",
    "                        output_dict[key]= False\n",
    "\n",
    "        \n",
    "        \n",
    "    \n",
    "    return output_dict"
   ]
  },
  {
   "cell_type": "code",
   "execution_count": 79,
   "id": "cd0b81ed-4c2b-4f0c-b600-49d2bbd1d676",
   "metadata": {},
   "outputs": [],
   "source": [
    "def can_recombination(input_dict):#根据先前字典里的值，判断哪个位置可能发生随机的交叉互换\n",
    "    output_dict = {}\n",
    "    true_count = 0\n",
    "    \n",
    "    for key in input_dict:\n",
    "        value = random_boolean(input_dict[key])\n",
    "        output_dict[key] = value\n",
    "        \n",
    "    \n",
    "    return output_dict\n",
    "\n"
   ]
  },
  {
   "cell_type": "code",
   "execution_count": 114,
   "id": "68784d54-33fb-4e98-9281-ac24c33d91fd",
   "metadata": {},
   "outputs": [],
   "source": [
    "def random_select(input_dict):#对can_recombination的字典值进行处理\n",
    "    true_keys=[key for key,value in input_dict.items() if value]\n",
    "    selected_keys = random.sample(true_keys,2)\n",
    "    for key in true_keys:\n",
    "        if key not in selected_keys:\n",
    "            input_dict[key]=False\n",
    "    return input_dict"
   ]
  },
  {
   "cell_type": "code",
   "execution_count": 123,
   "id": "6e87015b-ca0d-4265-a24f-cf4bdc2e7236",
   "metadata": {},
   "outputs": [],
   "source": [
    "def cycle_45000():\n",
    "\n",
    "    recombination_list_1=random_select(can_recombination(dict1))#recombination_list这代表着需要交换的位点：染色体1\n",
    "    keys_with_true_value_1=[key for key,value in recombination_list_1.items() if value==True]\n",
    "    recombination_list_2=random_select(can_recombination(dict2))\n",
    "    keys_with_true_value_2=[key for key,value in recombination_list_2.items() if value==True]\n",
    "    recombination_list_3=random_select(can_recombination(dict3))\n",
    "    keys_with_true_value_3=[key for key,value in recombination_list_3.items() if value==True]\n",
    "    recombination_list_4=random_select(can_recombination(dict4))\n",
    "    keys_with_true_value_4=[key for key,value in recombination_list_4.items() if value==True]\n",
    "    recombination_list_5=random_select(can_recombination(dict5))\n",
    "    keys_with_true_value_5=[key for key,value in recombination_list_5.items() if value==True]\n",
    "    recombination_list_6=random_select(can_recombination(dict6))\n",
    "    keys_with_true_value_6=[key for key,value in recombination_list_6.items() if value==True]\n",
    "    recombination_list_7=random_select(can_recombination(dict7))\n",
    "    keys_with_true_value_7=[key for key,value in recombination_list_7.items() if value==True]\n",
    "    recombination_list_8=random_select(can_recombination(dict8))\n",
    "    keys_with_true_value_8=[key for key,value in recombination_list_8.items() if value==True]\n",
    "    recombination_list_9=random_select(can_recombination(dict9))\n",
    "    keys_with_true_value_9=[key for key,value in recombination_list_9.items() if value==True]\n",
    "    recombination_list_10=random_select(can_recombination(dict10))\n",
    "    keys_with_true_value_10=[key for key,value in recombination_list_10.items() if value==True]\n",
    "    merged_keys=[]\n",
    "    merged_keys.extend(keys_with_true_value_1)\n",
    "    merged_keys.extend(keys_with_true_value_2)\n",
    "    merged_keys.extend(keys_with_true_value_3)\n",
    "    merged_keys.extend(keys_with_true_value_4)\n",
    "    merged_keys.extend(keys_with_true_value_5)\n",
    "    merged_keys.extend(keys_with_true_value_6)\n",
    "    merged_keys.extend(keys_with_true_value_7)\n",
    "    merged_keys.extend(keys_with_true_value_8)\n",
    "    merged_keys.extend(keys_with_true_value_9)\n",
    "    merged_keys.extend(keys_with_true_value_10)\n",
    "    return merged_keys"
   ]
  },
  {
   "cell_type": "code",
   "execution_count": 124,
   "id": "d5e6d4e8-5319-4eb4-a6aa-5274864a1581",
   "metadata": {},
   "outputs": [],
   "source": [
    "# 创建文件夹\n",
    "folder_name = 'cycle_450000'\n",
    "if not os.path.exists(folder_name):\n",
    "    os.makedirs(folder_name)\n",
    "\n",
    "# 遍历450,000次，每次调用cycla_45000并保存结果\n",
    "for i in range(450000):\n",
    "    # 生成唯一的文件名\n",
    "    file_name = f'output_{i:06d}.txt'  # 使用6位数字格式化，前面补0\n",
    "    file_path = os.path.join(folder_name, file_name)\n",
    "    \n",
    "    # 获取数据并保存为txt文件\n",
    "    data = cycle_45000()\n",
    "    with open(file_path, 'w') as file:\n",
    "        for item in data:\n",
    "            file.write(str(item) + '\\n')\n",
    "\n",
    "    # 如果需要保存为csv文件，可以使用csv模块\n",
    "    # csv_file_name = f'output_{i:06d}.csv'\n",
    "    # csv_file_path = os.path.join(folder_name, csv_file_name)\n",
    "    # with open(csv_file_path, 'w', newline='') as csv_file:\n",
    "    #     writer = csv.writer(csv_file)\n",
    "    #     for item in data:\n",
    "    #         writer.writerow([item])"
   ]
  },
  {
   "cell_type": "raw",
   "id": "6417656a-2878-4d68-8315-9d5160612f52",
   "metadata": {},
   "source": [
    "# 提取指定列\n",
    "emf_cols = ['EMF0700676717', 'EMF2000238400']\n",
    "id_col = 'id'\n",
    "selected_cols = [id_col]+emf_cols\n",
    "first_df = parents[selected_cols]\n",
    "\n",
    "print(first_df)\n",
    "print(merged_keys)"
   ]
  },
  {
   "cell_type": "raw",
   "id": "55ffb1cf-4757-4d16-80bc-a3076dff72c9",
   "metadata": {},
   "source": [
    "chr_signal=[]#将DNAid改变成行数，这里面存贮了chr变化时的位置\n",
    "for i in range(len(first_df)):\n",
    "    for j in chr_signal_change:\n",
    "        #print(first_df.loc[i,'id'])\n",
    "        if first_df.loc[i,'id']==j:\n",
    "            chr_signal.append(i) "
   ]
  },
  {
   "cell_type": "code",
   "execution_count": 108,
   "id": "801d5ef2-db73-4f6e-ab00-aad0e6d6b2e8",
   "metadata": {},
   "outputs": [
    {
     "name": "stdout",
     "output_type": "stream",
     "text": [
      "[6030, 11735, 17105, 17126, 18889, 20914, 21248, 23048, 23078]\n"
     ]
    }
   ],
   "source": [
    "print(chr_signal)"
   ]
  },
  {
   "cell_type": "code",
   "execution_count": 110,
   "id": "1821cf8c-34ef-4cb4-a9cc-29d16be5a8b9",
   "metadata": {},
   "outputs": [
    {
     "ename": "TypeError",
     "evalue": "'method' object is not subscriptable",
     "output_type": "error",
     "traceback": [
      "\u001b[1;31m---------------------------------------------------------------------------\u001b[0m",
      "\u001b[1;31mTypeError\u001b[0m                                 Traceback (most recent call last)",
      "Cell \u001b[1;32mIn[110], line 13\u001b[0m\n\u001b[0;32m     10\u001b[0m     segments\u001b[38;5;241m.\u001b[39mappend(df\u001b[38;5;241m.\u001b[39miloc[end:])  \u001b[38;5;66;03m# Add the remaining part of the dataframe\u001b[39;00m\n\u001b[0;32m     11\u001b[0m     \u001b[38;5;28;01mreturn\u001b[39;00m segments\n\u001b[1;32m---> 13\u001b[0m df_segments \u001b[38;5;241m=\u001b[39m segment_dataframe(df_copy, chr_signal)\n\u001b[0;32m     15\u001b[0m \u001b[38;5;66;03m# 遍历每个分段，根据merged_key中的前两个id值交换指定列\u001b[39;00m\n\u001b[0;32m     16\u001b[0m \u001b[38;5;28;01mfor\u001b[39;00m i \u001b[38;5;129;01min\u001b[39;00m \u001b[38;5;28mrange\u001b[39m(\u001b[38;5;241m2\u001b[39m):  \u001b[38;5;66;03m# Assuming merged_key has at least two elements\u001b[39;00m\n",
      "Cell \u001b[1;32mIn[110], line 7\u001b[0m, in \u001b[0;36msegment_dataframe\u001b[1;34m(df, signal_list)\u001b[0m\n\u001b[0;32m      5\u001b[0m start \u001b[38;5;241m=\u001b[39m \u001b[38;5;241m0\u001b[39m\n\u001b[0;32m      6\u001b[0m \u001b[38;5;28;01mfor\u001b[39;00m signal \u001b[38;5;129;01min\u001b[39;00m signal_list:\n\u001b[1;32m----> 7\u001b[0m     end \u001b[38;5;241m=\u001b[39m df[df[\u001b[38;5;124m'\u001b[39m\u001b[38;5;124mid\u001b[39m\u001b[38;5;124m'\u001b[39m] \u001b[38;5;241m==\u001b[39m signal]\u001b[38;5;241m.\u001b[39mindex[\u001b[38;5;241m0\u001b[39m]\n\u001b[0;32m      8\u001b[0m     segments\u001b[38;5;241m.\u001b[39mappend(df\u001b[38;5;241m.\u001b[39miloc[start:end])\n\u001b[0;32m      9\u001b[0m     start \u001b[38;5;241m=\u001b[39m end\n",
      "\u001b[1;31mTypeError\u001b[0m: 'method' object is not subscriptable"
     ]
    }
   ],
   "source": [
    "df_copy=first_df.copy#生成副本\n",
    "# 将df_copy按照chr_signal分段\n",
    "def segment_dataframe(df, signal_list):\n",
    "    segments = []\n",
    "    start = 0\n",
    "    for signal in signal_list:\n",
    "        end = df[df['id'] == signal].index[0]\n",
    "        segments.append(df.iloc[start:end])\n",
    "        start = end\n",
    "    segments.append(df.iloc[end:])  # Add the remaining part of the dataframe\n",
    "    return segments\n",
    "\n",
    "df_segments = segment_dataframe(df_copy, chr_signal)\n",
    "\n",
    "# 遍历每个分段，根据merged_key中的前两个id值交换指定列\n",
    "for i in range(2):  # Assuming merged_key has at least two elements\n",
    "    id_to_swap = merged_key[i]\n",
    "    columns_to_swap = ['emf070067617', 'emf2000238400']\n",
    "\n",
    "    for segment in df_segments:\n",
    "        if id_to_swap in segment['id'].values:\n",
    "            idx = segment[segment['id'] == id_to_swap].index[0]\n",
    "            segment.loc[idx:, columns_to_swap] = segment.loc[idx:, columns_to_swap].apply(lambda x: x[::-1], axis=1)\n",
    "\n",
    "# 合并处理后的分段\n",
    "df_processed = pd.concat(df_segments)\n",
    "\n",
    "print(df_processed)\n"
   ]
  },
  {
   "cell_type": "code",
   "execution_count": null,
   "id": "405e157a-2f58-4b7c-8683-6132d3abd0a3",
   "metadata": {},
   "outputs": [],
   "source": []
  }
 ],
 "metadata": {
  "kernelspec": {
   "display_name": "Python 3 (ipykernel)",
   "language": "python",
   "name": "python3"
  },
  "language_info": {
   "codemirror_mode": {
    "name": "ipython",
    "version": 3
   },
   "file_extension": ".py",
   "mimetype": "text/x-python",
   "name": "python",
   "nbconvert_exporter": "python",
   "pygments_lexer": "ipython3",
   "version": "3.11.7"
  }
 },
 "nbformat": 4,
 "nbformat_minor": 5
}
