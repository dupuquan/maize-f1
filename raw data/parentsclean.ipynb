{
 "cells": [
  {
   "cell_type": "code",
   "execution_count": 2,
   "id": "cda47ead-78a0-4efc-9b10-32674334f55b",
   "metadata": {},
   "outputs": [],
   "source": [
    "import pandas as pd\n",
    "import numpy as np\n",
    "import pdb#将dbug模块装载，方便调试\n",
    "#读取文件夹中parents内容\n",
    "parents=pd.read_excel(\"parents.xlsx\",keep_default_na=False)\n",
    "#读取文件夹中map内容\n",
    "MAP=pd.read_excel(\"Map_clean.xlsx\",keep_default_na=False)"
   ]
  },
  {
   "cell_type": "code",
   "execution_count": 3,
   "id": "fa96d5b0-4926-48b7-9c37-bbd0b7f11643",
   "metadata": {},
   "outputs": [],
   "source": [
    "def function2(input_figuers):#将一行数据拆分并存储进一个全新的列表中\n",
    "    #split_data = input_figuers.str.split(\"\", expand=True)\n",
    "    split_data = input_figuers.apply(lambda x: x.split(\"/\") if '/' in x else [x])\n",
    "# 将拆分后的字符存储到一个新的数组\n",
    "    result_array = split_data.values.flatten()\n",
    "#删除nontype\n",
    "    result_array = [item for item in result_array if item is not None]\n",
    "\n",
    "# 打印结果\n",
    "    return result_array"
   ]
  },
  {
   "cell_type": "code",
   "execution_count": 4,
   "id": "212b65be-71ed-45e5-bdb0-c7313d32b2a5",
   "metadata": {},
   "outputs": [],
   "source": [
    "def merge_nested_lists(nested_list):\n",
    "    merged_list = [item for sublist in nested_list for item in sublist]\n",
    "    return merged_list"
   ]
  },
  {
   "cell_type": "code",
   "execution_count": 5,
   "id": "2c311392-84c7-42ec-934e-73a714c60869",
   "metadata": {},
   "outputs": [],
   "source": [
    "def replace_dash(lst):#将-，-合成为-/-\n",
    "    # 遍历列表\n",
    "    i = 0\n",
    "    while i < len(lst) - 1:\n",
    "        # 如果当前元素和下一个元素都是 '-'\n",
    "        if lst[i] == '-' and lst[i + 1] == '-':\n",
    "            # 将当前元素替换为 '-/-'\n",
    "            lst[i] = '-/-'\n",
    "            # 移除下一个元素\n",
    "            lst.pop(i + 1)\n",
    "        else:\n",
    "            # 否则，继续遍历下一个元素\n",
    "            i += 1\n",
    "    return lst"
   ]
  },
  {
   "cell_type": "code",
   "execution_count": 6,
   "id": "f49ac60f-eda5-4c8e-aa09-586a709e6415",
   "metadata": {},
   "outputs": [],
   "source": [
    "def check_list(lst):\n",
    "    # 遍历列表\n",
    "    for item in lst:\n",
    "        # 如果元素为 'NA' 或 '-/-'，则返回 False\n",
    "        if item == 'NA' or item == '-/-':\n",
    "            return False\n",
    "    # 如果列表中没有 'NA' 或 '-/-'，则返回 True\n",
    "    return True"
   ]
  },
  {
   "cell_type": "code",
   "execution_count": 7,
   "id": "b568e690-bde2-4566-b490-901a77e3f810",
   "metadata": {},
   "outputs": [],
   "source": [
    "def process_elements(element_list):#将处理后的列表恢复成原来格式\n",
    "    processed_elements = [element_list[0]]  # Include the first element\n",
    "    i = 1\n",
    "    while i < len(element_list):\n",
    "        current_element = element_list[i]\n",
    "        if '/' in current_element:\n",
    "            processed_elements.append(current_element)\n",
    "        elif current_element == 'A' or current_element == 'T' or current_element == 'C' or current_element == 'G':\n",
    "            next_index = i + 1\n",
    "            if next_index < len(element_list) and '/' not in element_list[next_index]:\n",
    "                processed_elements.append(current_element + '/' + element_list[next_index])\n",
    "                i += 1  # Move to the next element\n",
    "            else:\n",
    "                processed_elements.append(current_element)\n",
    "        i += 1\n",
    "    return processed_elements"
   ]
  },
  {
   "cell_type": "code",
   "execution_count": 8,
   "id": "cd17bb80-6bae-4cde-a348-f9215e31e53c",
   "metadata": {},
   "outputs": [],
   "source": [
    "def function1(input_figures):#缺失率和MAF函数\n",
    "    A=0\n",
    "    T=0\n",
    "    C=0\n",
    "    G=0\n",
    "    missing=0\n",
    "    for i in range(1,len(input_figures)):\n",
    "        if(input_figures[i]=='A'):\n",
    "            A=A+1\n",
    "        elif(input_figures[i]=='T'):\n",
    "            T=T+1\n",
    "        elif(input_figures[i]=='C'):\n",
    "            C=C+1\n",
    "        elif(input_figures[i]=='G'):\n",
    "            G=G+1\n",
    "        elif( input_figures[i]=='-'):\n",
    "            missing=missing+1\n",
    "        elif(input_figures[i]=='NA'):\n",
    "            missing=missing+2\n",
    "    total_sum=A+T+C+G+missing#计算缺失率，这是总数\n",
    "    if (total_sum==0):\n",
    "        return False\n",
    "    else:\n",
    "        missing_rate=missing/total_sum#这是缺失率\n",
    "        a=A/total_sum\n",
    "        t=T/total_sum\n",
    "        c=C/total_sum\n",
    "        g=G/total_sum\n",
    "        my_list=[a,t,c,g]\n",
    "        # 将零值替换为正无穷\n",
    "        replaced_list = [x if x != 0 else float('inf') for x in my_list]\n",
    "    \n",
    "    # 找到替换后列表中的最小值\n",
    "        MAF= min(replaced_list)#这是该行的MAF\n",
    "        #找到最大值\n",
    "        data={'A/A':a, 'T/T': t, 'C/C': c, 'G/G': g}\n",
    "        MAXium_identifier=max(data,key=data.get)\n",
    "        if (0<=missing_rate<=0.4 and MAF>=0.05):\n",
    "            return str(MAXium_identifier)#保留着行数据，并返回缺失值的str进行修改\n",
    "        else:\n",
    "            return False #若返回为403则删除"
   ]
  },
  {
   "cell_type": "code",
   "execution_count": 9,
   "id": "816adc20-7f28-4850-841e-2e2c75effdc9",
   "metadata": {},
   "outputs": [],
   "source": [
    "def function3(input_figures):#用于对一行的NA和-/-值进行填补,找到最高含量的碱基\n",
    "    T=0\n",
    "    C=0\n",
    "    G=0\n",
    "    A=0\n",
    "    for i in range(1,len(input_figures)):\n",
    "        if(input_figures[i]=='A'):\n",
    "            A=A+1\n",
    "        elif(input_figures[i]=='T'):\n",
    "            T=T+1\n",
    "        elif(input_figures[i]=='C'):\n",
    "            C=C+1\n",
    "        elif(input_figures[i]=='G'):\n",
    "            G=G+1\n",
    "    a=A/20\n",
    "    t=T/20\n",
    "    c=C/20\n",
    "    g=G/20\n",
    "    #找到最大值\n",
    "    data={'A/A':a, 'T/T': t, 'C/C': c, 'G/G': g}\n",
    "    MAXium_identifier=max(data,key=data.get)\n",
    "    for i in range(1, len(input_figures)):  # 从索引1开始遍历，跳过第一个元素 '9_12663640'\n",
    "        if input_figures[i] == 'NA' or input_figures[i] == '-/-':  # 修正条件判断\n",
    "            input_figures[i] = MAXium_identifier\n",
    "    return input_figures\n",
    "    "
   ]
  },
  {
   "cell_type": "code",
   "execution_count": 10,
   "id": "4f12821a-cc34-4a6e-909c-d834e255c595",
   "metadata": {},
   "outputs": [],
   "source": [
    "N=[]\n",
    "for i in range(0,len(parents)):#删掉多余不符合要求的行\n",
    "    if (function1(merge_nested_lists(function2(parents.iloc[i])))==False):\n",
    "        value=parents.iloc[i, 0]\n",
    "        N.append(value)\n",
    "        #parents = parents.drop(index=i)\n",
    "df = parents[~parents['id'].isin(N)]"
   ]
  },
  {
   "cell_type": "code",
   "execution_count": 11,
   "id": "c5b8ccb5-60ef-4719-83fe-876e781bb1cb",
   "metadata": {},
   "outputs": [
    {
     "name": "stderr",
     "output_type": "stream",
     "text": [
      "C:\\Users\\杜溥泉\\AppData\\Local\\Temp\\ipykernel_10024\\4277674853.py:3: SettingWithCopyWarning: \n",
      "A value is trying to be set on a copy of a slice from a DataFrame\n",
      "\n",
      "See the caveats in the documentation: https://pandas.pydata.org/pandas-docs/stable/user_guide/indexing.html#returning-a-view-versus-a-copy\n",
      "  df.iloc[i]=process_elements(function3(replace_dash(merge_nested_lists(function2(df.iloc[i].copy())))))\n"
     ]
    }
   ],
   "source": [
    "for i in range(0,len(df)):\n",
    "    if (check_list(replace_dash(merge_nested_lists(function2(df.iloc[i,1:11]))))==False):\n",
    "        df.iloc[i]=process_elements(function3(replace_dash(merge_nested_lists(function2(df.iloc[i].copy())))))"
   ]
  },
  {
   "cell_type": "code",
   "execution_count": 12,
   "id": "faa37613-3deb-43ff-9b82-be59ce057894",
   "metadata": {},
   "outputs": [],
   "source": [
    "new_parents= df.replace(False, np.nan, inplace=False).dropna(inplace=False)"
   ]
  },
  {
   "cell_type": "code",
   "execution_count": 13,
   "id": "197b5c53-9e57-487c-932c-d5baab62f54a",
   "metadata": {},
   "outputs": [
    {
     "name": "stdout",
     "output_type": "stream",
     "text": [
      "                id EMF0901135939 EMF2000238400 EMF0700126067 EMF2000893574  \\\n",
      "7901    9_12652123           A/A           G/G           G/G           A/A   \n",
      "13615  9_226168756           G/G           G/G           G/G           G/G   \n",
      "7973    9_12652277           A/A           A/A           A/A           A/A   \n",
      "7963    9_12652243           G/G           G/G           G/G           G/G   \n",
      "8738   9_222269637           G/G           G/G           G/G           G/G   \n",
      "...            ...           ...           ...           ...           ...   \n",
      "23098          NaN           G/G           G/G           G/G           G/G   \n",
      "23101          NaN           G/G           G/G           A/A           G/G   \n",
      "23107          NaN           A/A           A/A           A/A           G/G   \n",
      "23108          NaN           C/C           G/G           G/G           C/C   \n",
      "23146          NaN           G/G           G/G           G/G           G/G   \n",
      "\n",
      "      EMF2000069773 EMF0500586084 EMF2000892076 EMF2000178475 EMF0700676717  \\\n",
      "7901            A/A           G/G           A/A           A/A           G/G   \n",
      "13615           G/G           G/G           G/G           G/G           G/G   \n",
      "7973            A/A           A/A           A/A           A/A           A/A   \n",
      "7963            G/G           G/G           G/G           G/G           G/G   \n",
      "8738            G/G           G/G           G/G           G/G           G/G   \n",
      "...             ...           ...           ...           ...           ...   \n",
      "23098           G/G           G/G           G/G           G/G           G/G   \n",
      "23101           A/A           G/G           G/G           G/G           G/G   \n",
      "23107           A/A           A/A           A/A           A/A           A/A   \n",
      "23108           G/G           C/C           G/G           G/G           C/C   \n",
      "23146           A/A           G/G           G/G           G/G           G/G   \n",
      "\n",
      "      EMF2001235465  \n",
      "7901            A/A  \n",
      "13615           G/G  \n",
      "7973            A/A  \n",
      "7963            G/G  \n",
      "8738            G/G  \n",
      "...             ...  \n",
      "23098           G/G  \n",
      "23101           G/G  \n",
      "23107           G/G  \n",
      "23108           G/G  \n",
      "23146           G/G  \n",
      "\n",
      "[22897 rows x 11 columns]\n"
     ]
    },
    {
     "name": "stderr",
     "output_type": "stream",
     "text": [
      "C:\\Users\\杜溥泉\\AppData\\Local\\Temp\\ipykernel_10024\\325328206.py:13: SettingWithCopyWarning: \n",
      "A value is trying to be set on a copy of a slice from a DataFrame.\n",
      "Try using .loc[row_indexer,col_indexer] = value instead\n",
      "\n",
      "See the caveats in the documentation: https://pandas.pydata.org/pandas-docs/stable/user_guide/indexing.html#returning-a-view-versus-a-copy\n",
      "  df['id'] = df['id'].astype(cat_type)\n"
     ]
    }
   ],
   "source": [
    "# 将Map的DNApolymorphismid列转换为一个字典，键为DNApolymorphismid，值为索引  \n",
    "order_list = MAP['DNApolymorphismid'].to_list()\n",
    "new_df=[]\n",
    "# 使用这个字典来对parents进行排序  \n",
    "'''for i in order_list:\n",
    "    for row in parents.itertuples(index=True, name=None): \n",
    "        print(row)'''\n",
    "\n",
    "# 创建一个CategoricalDtype，使用order_list作为类别顺序  \n",
    "cat_type = pd.CategoricalDtype(categories=order_list, ordered=True)  \n",
    "  \n",
    "# 将parents DataFrame的id列转换为分类数据类型  \n",
    "df['id'] = df['id'].astype(cat_type)  \n",
    "  \n",
    "# 根据id列的分类顺序对DataFrame进行排序  \n",
    "parents_sorted = df.sort_values(by='id')  \n",
    "  \n",
    "# 查看排序后的DataFrame  \n",
    "print(parents_sorted)"
   ]
  },
  {
   "cell_type": "code",
   "execution_count": 1,
   "id": "22c7d8a0-e74a-4155-a7f9-8c6fa1f6748d",
   "metadata": {},
   "outputs": [
    {
     "ename": "NameError",
     "evalue": "name 'parents_sorted' is not defined",
     "output_type": "error",
     "traceback": [
      "\u001b[1;31m---------------------------------------------------------------------------\u001b[0m",
      "\u001b[1;31mNameError\u001b[0m                                 Traceback (most recent call last)",
      "Cell \u001b[1;32mIn[1], line 1\u001b[0m\n\u001b[1;32m----> 1\u001b[0m parents_sorted\u001b[38;5;241m.\u001b[39mto_excel(\u001b[38;5;124m'\u001b[39m\u001b[38;5;124mparents_clean.xlsx\u001b[39m\u001b[38;5;124m'\u001b[39m,index\u001b[38;5;241m=\u001b[39m\u001b[38;5;28;01mFalse\u001b[39;00m)\n\u001b[0;32m      2\u001b[0m \u001b[38;5;28mprint\u001b[39m(N)\n",
      "\u001b[1;31mNameError\u001b[0m: name 'parents_sorted' is not defined"
     ]
    }
   ],
   "source": [
    "parents_sorted.to_excel('parents_clean.xlsx',index=False)\n"
   ]
  },
  {
   "cell_type": "code",
   "execution_count": 14,
   "id": "0f536ed8-aa8e-4f5e-a7f3-0778fe788e9f",
   "metadata": {},
   "outputs": [
    {
     "name": "stdout",
     "output_type": "stream",
     "text": [
      "['9_12663673', '9_12645676', '9_12645743', '9_12664214', '9_12645909', '9_12664332', '9_12648356', '9_12648323', '9_12647625', '9_12647391', '9_12647301', '9_12647150', '9_12666042', '9_12646778', '9_12637637', '9_12637600', '9_12637388', '9_12637252', '9_12637224', '9_12653700', '9_12653734', '9_12636824', '9_12636090', '9_12635570', '9_12635057', '9_12655557', '9_12634426', '9_12634399', '9_12656032', '9_12633985', '9_12659153', '9_12672042', '9_12633869', '9_12672592', '9_12609706', '9_12673271', '9_12673596', '9_12607564', '9_12607943', '9_12608056', '9_12608207', '9_12674950', '9_12674974', '9_12608522', '9_12675233', '9_12675401', '9_12675673', '9_12675743', '9_12626619', '9_12626042', '9_24200435', '9_12625862', '9_24122549', '9_12625101', '9_23977682', '9_12624873', '9_23929579', '9_12624350', '9_23705555', '9_236760938', '9_236653703', '9_12650233', '9_12650522', '9_236263460', '9_236230657', '9_236219353', '9_12680607', '9_12680807', '9_12651859', '9_12681480', '9_12681487', '9_12652345', '9_12681689', '9_12652419', '9_12652434', '9_12652499', '9_12652613', '9_12653020', '9_12649055', '9_222197642', '9_222203300', '9_222248782', '9_222253116', '9_222254718', '9_222300802', '9_222337865', '9_222337870', '9_222364611', '9_12649829', '9_222424135', '9_222448573', '9_222487834', '9_222487841', '9_222487894', '9_222593602', '9_222647084', '9_222676254', '9_222687573', '9_222704049', '9_12621766', '9_12622028', '9_12622128', '9_12622392', '9_12622402', '9_12622524', '9_12622670', '9_12623037', '9_12623111', '9_12619007', '9_12619041', '9_12619075', '9_12662899', '9_12662929', '9_12619679', '9_12663395', '9_12619725', '9_235036619', '9_12620966', '9_12621151', '9_12621246', '9_234966549', '9_12641550', '9_12641315', '9_12640979', '9_235492831', '9_12640384', '9_235740459', '9_12640161', '9_235872601', '9_235972474', '9_236082234', '9_12638504', '9_12638546', '9_12639615', '9_227071121', '9_226871098', '9_226748616', '9_226748588', '9_226748268', '9_226733157', '9_226673294', '9_226610191', '9_226558689', '9_226326551', '9_226277850', '9_226249036', '9_226227360', '9_233626577', '9_226203513', '9_226185741', '9_226095379', '9_226078688', '9_226062382', '9_226058596', '9_226053336', '9_226053059', '9_226038190', '9_226017536', '9_226012230', '9_225979581', '9_225939087', '9_225919302', '9_225901703', '9_225870782', '9_233859797', '9_225823099', '9_225805252', '9_225805024', '9_225793448', '9_225788612', '9_225785713', '9_225774083', '9_233952921', '9_225758448', '9_234006291', '9_225700971', '9_225684593', '9_225665647', '9_225665341', '9_225660606', '9_225628466', '9_225628459', '9_223606878', '9_223606877', '9_223606014', '9_223602549', '9_223571935', '9_223150340', '9_223135989', '9_223135728', '9_223128120', '9_223120296', '9_223106991', '9_222974933', '9_222897650', '9_222873988', '9_222863398', '9_222821184', '9_222809151', '9_222794218', '9_234684662', '9_222790296', '9_12667998', '9_12668001', '9_12668070', '9_12671434', '9_12671597', '9_12666772', '9_12669403', '9_12669251', '9_12669178', '9_12668803', '9_12668694', '9_12668674', '9_12668448', '9_12666512', '9_12668191', '9_12670833', '9_12614800', '9_12615060', '9_12615131', '9_12633757', '9_12616552', '9_12616987', '9_12642271', '9_12642462', '9_12617633', '9_12617653', '9_12618014', '9_12642751', '9_12618521', '9_474259983', '9_12643157', '9_12643224', '9_12643237', '9_67925864', '9_67938228', '9_12643440', '9_818000099', '9_999992223', '9_999992255', '9_999992274', '9_999992278', '9_999992279', '9_999992280', '9_999992282', '9_999992287', '9_999992292', '9_999992347', '9_999992334', '9_999992331', '9_999992327', '9_999992324', '9_999992320', '9_999992308', '9_999992305', '9_999992304', '9_999992296', '9_256807243', '9_256824439', '9_256975138', '9_257367618', '9_257409058', '9_257577447', '9_257645855', '9_257839312', '9_258229567', '9_399351707', '9_399351972', '9_473255088', '9_12614083', '9_12614081', '9_12614078', '9_12614077', '9_12676414', '9_12613495', '9_12676937', '9_12612866', '9_12677096', '9_12628453', '9_12677123', '9_12612733', '9_12628604', '9_12612588', '9_12612548', '9_12628755', '9_12677830', '9_12676082', '9_12629521', '9_12629535', '9_12679684', '9_12629882', '9_12679047', '9_12630718', '9_12678773', '9_12611943', '9_12678331', '9_12678240', '9_12664802', '9_12653346', '9_12612599', '9_12653612', '9_12627705', '9_12653641', '9_12644364', '9_12644663', '9_12611171', '9_12649270', '9_12609775', '9_12631327', '9_12680298', '9_12639711', '9_12617073', '9_12667757', '9_12618186', '9_12645448', '9_12673394', '9_12610016', '9_12636869', '9_12634999', '9_12668183', '9_12641757', '9_12638315', '9_12630279', '9_12629897', '9_12680681', '9_12638069', '9_12641375', '9_12643024', '9_12643137', '9_12664152']\n"
     ]
    }
   ],
   "source": [
    "print(N)"
   ]
  },
  {
   "cell_type": "code",
   "execution_count": null,
   "id": "dd2b28e7-2f94-485b-816e-50d7827eb034",
   "metadata": {},
   "outputs": [],
   "source": []
  }
 ],
 "metadata": {
  "kernelspec": {
   "display_name": "Python 3 (ipykernel)",
   "language": "python",
   "name": "python3"
  },
  "language_info": {
   "codemirror_mode": {
    "name": "ipython",
    "version": 3
   },
   "file_extension": ".py",
   "mimetype": "text/x-python",
   "name": "python",
   "nbconvert_exporter": "python",
   "pygments_lexer": "ipython3",
   "version": "3.11.7"
  }
 },
 "nbformat": 4,
 "nbformat_minor": 5
}
