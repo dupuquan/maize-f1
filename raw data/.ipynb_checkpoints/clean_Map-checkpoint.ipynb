{
 "cells": [
  {
   "cell_type": "code",
   "execution_count": 7,
   "id": "7ae6d139-fe17-458f-a396-b4cb38c97ba7",
   "metadata": {},
   "outputs": [
    {
     "name": "stdout",
     "output_type": "stream",
     "text": [
      "hello world\n"
     ]
    }
   ],
   "source": [
    "print(\"hello world\")"
   ]
  },
  {
   "cell_type": "code",
   "execution_count": 8,
   "id": "1ea0cba8-547f-4cc1-b188-108976a40a17",
   "metadata": {},
   "outputs": [],
   "source": [
    "import pandas as pd"
   ]
  },
  {
   "cell_type": "code",
   "execution_count": 9,
   "id": "5e820685-ef7a-4f51-8b82-e39ead63ea57",
   "metadata": {},
   "outputs": [],
   "source": [
    "#读取文件夹中map内容\n",
    "Map=pd.read_excel(\"Map.xlsx\")"
   ]
  },
  {
   "cell_type": "code",
   "execution_count": 13,
   "id": "8b51ef8a-5c48-4d61-9b5d-ae95ab9e047b",
   "metadata": {},
   "outputs": [
    {
     "name": "stdout",
     "output_type": "stream",
     "text": [
      "  DNApolymorphismid Map Set(外部v5)  Chr    Start      End  LG  MP\n",
      "0        9_12652269   corn_B73_v5  1.0  39898.0  39898.0 NaN NaN\n"
     ]
    }
   ],
   "source": [
    "print(Map.head(1))"
   ]
  },
  {
   "cell_type": "code",
   "execution_count": 17,
   "id": "a1359759-3600-4efb-8a31-f5dce098938d",
   "metadata": {},
   "outputs": [
    {
     "ename": "SyntaxError",
     "evalue": "invalid syntax (683258907.py, line 1)",
     "output_type": "error",
     "traceback": [
      "\u001b[1;36m  Cell \u001b[1;32mIn[17], line 1\u001b[1;36m\u001b[0m\n\u001b[1;33m    print(Map.loc[*])\u001b[0m\n\u001b[1;37m                   ^\u001b[0m\n\u001b[1;31mSyntaxError\u001b[0m\u001b[1;31m:\u001b[0m invalid syntax\n"
     ]
    }
   ],
   "source": []
  },
  {
   "cell_type": "code",
   "execution_count": null,
   "id": "41ce5532-2298-4454-8461-6036dbfae0c6",
   "metadata": {},
   "outputs": [],
   "source": []
  }
 ],
 "metadata": {
  "kernelspec": {
   "display_name": "Python 3 (ipykernel)",
   "language": "python",
   "name": "python3"
  },
  "language_info": {
   "codemirror_mode": {
    "name": "ipython",
    "version": 3
   },
   "file_extension": ".py",
   "mimetype": "text/x-python",
   "name": "python",
   "nbconvert_exporter": "python",
   "pygments_lexer": "ipython3",
   "version": "3.11.7"
  }
 },
 "nbformat": 4,
 "nbformat_minor": 5
}
