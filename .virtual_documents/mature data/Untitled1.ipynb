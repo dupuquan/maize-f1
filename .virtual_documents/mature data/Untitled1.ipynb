import pandas as pd


parents=pd.read_excel('parents_clean (9).xlsx',keep_default_na=False)







# 提取指定列
emf_cols = ['EMF0700676717', 'EMF2000238400']
id_col = 'id'
selected_cols = [id_col]+emf_cols
new_df = parents[selected_cols]

print(new_df)



